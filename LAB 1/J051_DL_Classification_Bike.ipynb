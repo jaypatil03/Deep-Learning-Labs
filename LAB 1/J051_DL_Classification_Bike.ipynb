{
 "cells": [
  {
   "cell_type": "code",
   "execution_count": 53,
   "metadata": {},
   "outputs": [],
   "source": [
    "#Neural Network for Classification of Bike Dataset"
   ]
  },
  {
   "cell_type": "code",
   "execution_count": 54,
   "metadata": {},
   "outputs": [],
   "source": [
    "#Importing Libraries\n",
    "import numpy as np\n",
    "import pandas as pd\n",
    "from sklearn.preprocessing import LabelEncoder, StandardScaler\n",
    "from sklearn.compose import ColumnTransformer\n",
    "import tensorflow as tf\n",
    "from tensorflow.keras.models import Sequential\n",
    "from tensorflow.keras.layers import Dense"
   ]
  },
  {
   "cell_type": "code",
   "execution_count": 55,
   "metadata": {},
   "outputs": [],
   "source": [
    "df = pd.read_excel('BikeDataset.xlsx')"
   ]
  },
  {
   "cell_type": "code",
   "execution_count": 56,
   "metadata": {},
   "outputs": [
    {
     "data": {
      "text/html": [
       "<div>\n",
       "<style scoped>\n",
       "    .dataframe tbody tr th:only-of-type {\n",
       "        vertical-align: middle;\n",
       "    }\n",
       "\n",
       "    .dataframe tbody tr th {\n",
       "        vertical-align: top;\n",
       "    }\n",
       "\n",
       "    .dataframe thead th {\n",
       "        text-align: right;\n",
       "    }\n",
       "</style>\n",
       "<table border=\"1\" class=\"dataframe\">\n",
       "  <thead>\n",
       "    <tr style=\"text-align: right;\">\n",
       "      <th></th>\n",
       "      <th>ID</th>\n",
       "      <th>Martial Status</th>\n",
       "      <th>Gender</th>\n",
       "      <th>Income</th>\n",
       "      <th>Children</th>\n",
       "      <th>Education</th>\n",
       "      <th>Occupation</th>\n",
       "      <th>Home Owner</th>\n",
       "      <th>Cars</th>\n",
       "      <th>Commute Distance</th>\n",
       "      <th>Region</th>\n",
       "      <th>Age</th>\n",
       "      <th>Age Brackets</th>\n",
       "      <th>Purchased Bike</th>\n",
       "    </tr>\n",
       "  </thead>\n",
       "  <tbody>\n",
       "    <tr>\n",
       "      <th>0</th>\n",
       "      <td>12496</td>\n",
       "      <td>Married</td>\n",
       "      <td>Female</td>\n",
       "      <td>40000</td>\n",
       "      <td>1</td>\n",
       "      <td>Bachelors</td>\n",
       "      <td>Skilled Manual</td>\n",
       "      <td>Yes</td>\n",
       "      <td>0</td>\n",
       "      <td>0-1 Miles</td>\n",
       "      <td>Europe</td>\n",
       "      <td>42</td>\n",
       "      <td>Middle Age</td>\n",
       "      <td>No</td>\n",
       "    </tr>\n",
       "    <tr>\n",
       "      <th>1</th>\n",
       "      <td>24107</td>\n",
       "      <td>Married</td>\n",
       "      <td>Male</td>\n",
       "      <td>30000</td>\n",
       "      <td>3</td>\n",
       "      <td>Partial College</td>\n",
       "      <td>Clerical</td>\n",
       "      <td>Yes</td>\n",
       "      <td>1</td>\n",
       "      <td>0-1 Miles</td>\n",
       "      <td>Europe</td>\n",
       "      <td>43</td>\n",
       "      <td>Middle Age</td>\n",
       "      <td>No</td>\n",
       "    </tr>\n",
       "    <tr>\n",
       "      <th>2</th>\n",
       "      <td>14177</td>\n",
       "      <td>Married</td>\n",
       "      <td>Male</td>\n",
       "      <td>80000</td>\n",
       "      <td>5</td>\n",
       "      <td>Partial College</td>\n",
       "      <td>Professional</td>\n",
       "      <td>No</td>\n",
       "      <td>2</td>\n",
       "      <td>2-5 Miles</td>\n",
       "      <td>Europe</td>\n",
       "      <td>60</td>\n",
       "      <td>Old</td>\n",
       "      <td>No</td>\n",
       "    </tr>\n",
       "    <tr>\n",
       "      <th>3</th>\n",
       "      <td>24381</td>\n",
       "      <td>Single</td>\n",
       "      <td>Male</td>\n",
       "      <td>70000</td>\n",
       "      <td>0</td>\n",
       "      <td>Bachelors</td>\n",
       "      <td>Professional</td>\n",
       "      <td>Yes</td>\n",
       "      <td>1</td>\n",
       "      <td>5-10 Miles</td>\n",
       "      <td>Pacific</td>\n",
       "      <td>41</td>\n",
       "      <td>Middle Age</td>\n",
       "      <td>Yes</td>\n",
       "    </tr>\n",
       "    <tr>\n",
       "      <th>4</th>\n",
       "      <td>25597</td>\n",
       "      <td>Single</td>\n",
       "      <td>Male</td>\n",
       "      <td>30000</td>\n",
       "      <td>0</td>\n",
       "      <td>Bachelors</td>\n",
       "      <td>Clerical</td>\n",
       "      <td>No</td>\n",
       "      <td>0</td>\n",
       "      <td>0-1 Miles</td>\n",
       "      <td>Europe</td>\n",
       "      <td>36</td>\n",
       "      <td>Middle Age</td>\n",
       "      <td>Yes</td>\n",
       "    </tr>\n",
       "  </tbody>\n",
       "</table>\n",
       "</div>"
      ],
      "text/plain": [
       "      ID Martial Status  Gender  Income  Children        Education  \\\n",
       "0  12496        Married  Female   40000         1        Bachelors   \n",
       "1  24107        Married    Male   30000         3  Partial College   \n",
       "2  14177        Married    Male   80000         5  Partial College   \n",
       "3  24381         Single    Male   70000         0        Bachelors   \n",
       "4  25597         Single    Male   30000         0        Bachelors   \n",
       "\n",
       "       Occupation Home Owner  Cars Commute Distance   Region  Age  \\\n",
       "0  Skilled Manual        Yes     0        0-1 Miles   Europe   42   \n",
       "1        Clerical        Yes     1        0-1 Miles   Europe   43   \n",
       "2    Professional         No     2        2-5 Miles   Europe   60   \n",
       "3    Professional        Yes     1       5-10 Miles  Pacific   41   \n",
       "4        Clerical         No     0        0-1 Miles   Europe   36   \n",
       "\n",
       "  Age Brackets Purchased Bike  \n",
       "0   Middle Age             No  \n",
       "1   Middle Age             No  \n",
       "2          Old             No  \n",
       "3   Middle Age            Yes  \n",
       "4   Middle Age            Yes  "
      ]
     },
     "execution_count": 56,
     "metadata": {},
     "output_type": "execute_result"
    }
   ],
   "source": [
    "df.head()"
   ]
  },
  {
   "cell_type": "code",
   "execution_count": 57,
   "metadata": {},
   "outputs": [
    {
     "data": {
      "text/plain": [
       "ID                  0\n",
       "Martial Status      0\n",
       "Gender              0\n",
       "Income              0\n",
       "Children            0\n",
       "Education           0\n",
       "Occupation          0\n",
       "Home Owner          0\n",
       "Cars                0\n",
       "Commute Distance    0\n",
       "Region              0\n",
       "Age                 0\n",
       "Age Brackets        0\n",
       "Purchased Bike      0\n",
       "dtype: int64"
      ]
     },
     "execution_count": 57,
     "metadata": {},
     "output_type": "execute_result"
    }
   ],
   "source": [
    "#Checking for missing values\n",
    "df.isnull().sum()"
   ]
  },
  {
   "cell_type": "code",
   "execution_count": 58,
   "metadata": {},
   "outputs": [
    {
     "data": {
      "text/plain": [
       "ID                   int64\n",
       "Martial Status      object\n",
       "Gender              object\n",
       "Income               int64\n",
       "Children             int64\n",
       "Education           object\n",
       "Occupation          object\n",
       "Home Owner          object\n",
       "Cars                 int64\n",
       "Commute Distance    object\n",
       "Region              object\n",
       "Age                  int64\n",
       "Age Brackets        object\n",
       "Purchased Bike      object\n",
       "dtype: object"
      ]
     },
     "execution_count": 58,
     "metadata": {},
     "output_type": "execute_result"
    }
   ],
   "source": [
    "#check for data types of columns\n",
    "df.dtypes"
   ]
  },
  {
   "cell_type": "code",
   "execution_count": 59,
   "metadata": {},
   "outputs": [],
   "source": [
    "#Label Encoding for Categorical Variables\n",
    "le = LabelEncoder()\n",
    "df['Martial Status'] = le.fit_transform(df['Martial Status'])\n",
    "df['Gender'] = le.fit_transform(df['Gender'])\n",
    "df['Education'] = le.fit_transform(df['Education'])\n",
    "df['Occupation'] = le.fit_transform(df['Occupation'])\n",
    "df['Home Owner'] = le.fit_transform(df['Home Owner'])\n",
    "df['Commute Distance'] = le.fit_transform(df['Commute Distance'])\n",
    "df['Region'] = le.fit_transform(df['Region'])  \n",
    "df['Age'] = le.fit_transform(df['Age'])\n",
    "df['Purchased Bike'] = le.fit_transform(df['Purchased Bike'])\n",
    "df['Age Brackets'] = le.fit_transform(df['Age Brackets'])"
   ]
  },
  {
   "cell_type": "code",
   "execution_count": 60,
   "metadata": {},
   "outputs": [],
   "source": [
    "# Extract features and target\n",
    "X = df.drop(columns=['Purchased Bike'])\n",
    "y = df['Purchased Bike']"
   ]
  },
  {
   "cell_type": "code",
   "execution_count": 61,
   "metadata": {},
   "outputs": [
    {
     "data": {
      "text/plain": [
       "ID                  int64\n",
       "Martial Status      int32\n",
       "Gender              int32\n",
       "Income              int64\n",
       "Children            int64\n",
       "Education           int32\n",
       "Occupation          int32\n",
       "Home Owner          int32\n",
       "Cars                int64\n",
       "Commute Distance    int32\n",
       "Region              int32\n",
       "Age                 int64\n",
       "Age Brackets        int32\n",
       "dtype: object"
      ]
     },
     "execution_count": 61,
     "metadata": {},
     "output_type": "execute_result"
    }
   ],
   "source": [
    "X.dtypes"
   ]
  },
  {
   "cell_type": "code",
   "execution_count": 62,
   "metadata": {},
   "outputs": [],
   "source": [
    "from sklearn.model_selection import train_test_split"
   ]
  },
  {
   "cell_type": "code",
   "execution_count": 63,
   "metadata": {},
   "outputs": [],
   "source": [
    "X_train, X_test, y_train, y_test = train_test_split(X, y, test_size=0.2, random_state=42)"
   ]
  },
  {
   "cell_type": "code",
   "execution_count": 64,
   "metadata": {},
   "outputs": [],
   "source": [
    "# Create the ANN\n",
    "model = Sequential()\n",
    "model.add(Dense(128, input_dim=X_train.shape[1], activation='relu'))\n",
    "model.add(Dense(64, activation='relu'))\n",
    "model.add(Dense(32, activation='relu'))\n",
    "model.add(Dense(16, activation='relu'))\n",
    "model.add(Dense(8, activation='relu'))\n",
    "model.add(Dense(1, activation='sigmoid'))"
   ]
  },
  {
   "cell_type": "code",
   "execution_count": 65,
   "metadata": {},
   "outputs": [],
   "source": [
    "model.compile(optimizer='adam', loss='binary_crossentropy', metrics=['accuracy'])\n"
   ]
  },
  {
   "cell_type": "code",
   "execution_count": 66,
   "metadata": {},
   "outputs": [
    {
     "name": "stdout",
     "output_type": "stream",
     "text": [
      "Epoch 1/50\n",
      "14/14 [==============================] - 1s 23ms/step - loss: 129.9024 - accuracy: 0.5047 - val_loss: 0.6845 - val_accuracy: 0.5125\n",
      "Epoch 2/50\n",
      "14/14 [==============================] - 0s 11ms/step - loss: 0.7132 - accuracy: 0.5172 - val_loss: 0.6931 - val_accuracy: 0.5125\n",
      "Epoch 3/50\n",
      "14/14 [==============================] - 0s 10ms/step - loss: 0.6930 - accuracy: 0.5172 - val_loss: 0.6930 - val_accuracy: 0.5125\n",
      "Epoch 4/50\n",
      "14/14 [==============================] - 0s 10ms/step - loss: 0.6930 - accuracy: 0.5172 - val_loss: 0.6930 - val_accuracy: 0.5125\n",
      "Epoch 5/50\n",
      "14/14 [==============================] - 0s 9ms/step - loss: 0.6930 - accuracy: 0.5172 - val_loss: 0.6930 - val_accuracy: 0.5125\n",
      "Epoch 6/50\n",
      "14/14 [==============================] - 0s 11ms/step - loss: 0.6930 - accuracy: 0.5172 - val_loss: 0.6930 - val_accuracy: 0.5125\n",
      "Epoch 7/50\n",
      "14/14 [==============================] - 0s 9ms/step - loss: 0.6930 - accuracy: 0.5172 - val_loss: 0.6930 - val_accuracy: 0.5125\n",
      "Epoch 8/50\n",
      "14/14 [==============================] - 0s 15ms/step - loss: 0.6930 - accuracy: 0.5172 - val_loss: 0.6930 - val_accuracy: 0.5125\n",
      "Epoch 9/50\n",
      "14/14 [==============================] - 0s 9ms/step - loss: 0.6929 - accuracy: 0.5172 - val_loss: 0.6930 - val_accuracy: 0.5125\n",
      "Epoch 10/50\n",
      "14/14 [==============================] - 0s 11ms/step - loss: 0.6929 - accuracy: 0.5172 - val_loss: 0.6930 - val_accuracy: 0.5125\n",
      "Epoch 11/50\n",
      "14/14 [==============================] - 0s 11ms/step - loss: 0.6929 - accuracy: 0.5172 - val_loss: 0.6930 - val_accuracy: 0.5125\n",
      "Epoch 12/50\n",
      "14/14 [==============================] - 0s 13ms/step - loss: 0.6929 - accuracy: 0.5172 - val_loss: 0.6930 - val_accuracy: 0.5125\n",
      "Epoch 13/50\n",
      "14/14 [==============================] - 0s 9ms/step - loss: 0.6928 - accuracy: 0.5172 - val_loss: 0.6929 - val_accuracy: 0.5125\n",
      "Epoch 14/50\n",
      "14/14 [==============================] - 0s 14ms/step - loss: 0.6928 - accuracy: 0.5172 - val_loss: 0.6929 - val_accuracy: 0.5125\n",
      "Epoch 15/50\n",
      "14/14 [==============================] - 0s 11ms/step - loss: 0.6928 - accuracy: 0.5172 - val_loss: 0.6929 - val_accuracy: 0.5125\n",
      "Epoch 16/50\n",
      "14/14 [==============================] - 0s 11ms/step - loss: 0.6928 - accuracy: 0.5172 - val_loss: 0.6929 - val_accuracy: 0.5125\n",
      "Epoch 17/50\n",
      "14/14 [==============================] - 0s 10ms/step - loss: 0.6928 - accuracy: 0.5172 - val_loss: 0.6929 - val_accuracy: 0.5125\n",
      "Epoch 18/50\n",
      "14/14 [==============================] - 0s 12ms/step - loss: 0.6928 - accuracy: 0.5172 - val_loss: 0.6929 - val_accuracy: 0.5125\n",
      "Epoch 19/50\n",
      "14/14 [==============================] - 0s 10ms/step - loss: 0.6928 - accuracy: 0.5172 - val_loss: 0.6929 - val_accuracy: 0.5125\n",
      "Epoch 20/50\n",
      "14/14 [==============================] - 0s 10ms/step - loss: 0.6928 - accuracy: 0.5172 - val_loss: 0.6929 - val_accuracy: 0.5125\n",
      "Epoch 21/50\n",
      "14/14 [==============================] - 0s 11ms/step - loss: 0.6928 - accuracy: 0.5172 - val_loss: 0.6929 - val_accuracy: 0.5125\n",
      "Epoch 22/50\n",
      "14/14 [==============================] - 0s 11ms/step - loss: 0.6927 - accuracy: 0.5172 - val_loss: 0.6929 - val_accuracy: 0.5125\n",
      "Epoch 23/50\n",
      "14/14 [==============================] - 0s 12ms/step - loss: 0.6927 - accuracy: 0.5172 - val_loss: 0.6929 - val_accuracy: 0.5125\n",
      "Epoch 24/50\n",
      "14/14 [==============================] - 0s 11ms/step - loss: 0.6927 - accuracy: 0.5172 - val_loss: 0.6929 - val_accuracy: 0.5125\n",
      "Epoch 25/50\n",
      "14/14 [==============================] - 0s 11ms/step - loss: 0.6927 - accuracy: 0.5172 - val_loss: 0.6929 - val_accuracy: 0.5125\n",
      "Epoch 26/50\n",
      "14/14 [==============================] - 0s 14ms/step - loss: 0.6927 - accuracy: 0.5172 - val_loss: 0.6929 - val_accuracy: 0.5125\n",
      "Epoch 27/50\n",
      "14/14 [==============================] - 0s 11ms/step - loss: 0.6927 - accuracy: 0.5172 - val_loss: 0.6929 - val_accuracy: 0.5125\n",
      "Epoch 28/50\n",
      "14/14 [==============================] - 0s 10ms/step - loss: 0.6927 - accuracy: 0.5172 - val_loss: 0.6928 - val_accuracy: 0.5125\n",
      "Epoch 29/50\n",
      "14/14 [==============================] - 0s 11ms/step - loss: 0.6927 - accuracy: 0.5172 - val_loss: 0.6928 - val_accuracy: 0.5125\n",
      "Epoch 30/50\n",
      "14/14 [==============================] - 0s 10ms/step - loss: 0.6927 - accuracy: 0.5172 - val_loss: 0.6928 - val_accuracy: 0.5125\n",
      "Epoch 31/50\n",
      "14/14 [==============================] - 0s 12ms/step - loss: 0.6927 - accuracy: 0.5172 - val_loss: 0.6928 - val_accuracy: 0.5125\n",
      "Epoch 32/50\n",
      "14/14 [==============================] - 0s 10ms/step - loss: 0.6926 - accuracy: 0.5172 - val_loss: 0.6928 - val_accuracy: 0.5125\n",
      "Epoch 33/50\n",
      "14/14 [==============================] - 0s 9ms/step - loss: 0.6927 - accuracy: 0.5172 - val_loss: 0.6928 - val_accuracy: 0.5125\n",
      "Epoch 34/50\n",
      "14/14 [==============================] - 0s 9ms/step - loss: 0.6926 - accuracy: 0.5172 - val_loss: 0.6928 - val_accuracy: 0.5125\n",
      "Epoch 35/50\n",
      "14/14 [==============================] - 0s 10ms/step - loss: 0.6926 - accuracy: 0.5172 - val_loss: 0.6928 - val_accuracy: 0.5125\n",
      "Epoch 36/50\n",
      "14/14 [==============================] - 0s 9ms/step - loss: 0.6927 - accuracy: 0.5172 - val_loss: 0.6928 - val_accuracy: 0.5125\n",
      "Epoch 37/50\n",
      "14/14 [==============================] - 0s 9ms/step - loss: 0.6926 - accuracy: 0.5172 - val_loss: 0.6928 - val_accuracy: 0.5125\n",
      "Epoch 38/50\n",
      "14/14 [==============================] - 0s 9ms/step - loss: 0.6926 - accuracy: 0.5172 - val_loss: 0.6928 - val_accuracy: 0.5125\n",
      "Epoch 39/50\n",
      "14/14 [==============================] - 0s 10ms/step - loss: 0.6926 - accuracy: 0.5172 - val_loss: 0.6928 - val_accuracy: 0.5125\n",
      "Epoch 40/50\n",
      "14/14 [==============================] - 0s 10ms/step - loss: 0.6926 - accuracy: 0.5172 - val_loss: 0.6928 - val_accuracy: 0.5125\n",
      "Epoch 41/50\n",
      "14/14 [==============================] - 0s 9ms/step - loss: 0.6926 - accuracy: 0.5172 - val_loss: 0.6928 - val_accuracy: 0.5125\n",
      "Epoch 42/50\n",
      "14/14 [==============================] - 0s 9ms/step - loss: 0.6926 - accuracy: 0.5172 - val_loss: 0.6928 - val_accuracy: 0.5125\n",
      "Epoch 43/50\n",
      "14/14 [==============================] - 0s 13ms/step - loss: 0.6926 - accuracy: 0.5172 - val_loss: 0.6928 - val_accuracy: 0.5125\n",
      "Epoch 44/50\n",
      "14/14 [==============================] - 0s 10ms/step - loss: 0.6926 - accuracy: 0.5172 - val_loss: 0.6928 - val_accuracy: 0.5125\n",
      "Epoch 45/50\n",
      "14/14 [==============================] - 0s 11ms/step - loss: 0.6926 - accuracy: 0.5172 - val_loss: 0.6928 - val_accuracy: 0.5125\n",
      "Epoch 46/50\n",
      "14/14 [==============================] - 0s 11ms/step - loss: 0.6926 - accuracy: 0.5172 - val_loss: 0.6928 - val_accuracy: 0.5125\n",
      "Epoch 47/50\n",
      "14/14 [==============================] - 0s 10ms/step - loss: 0.6926 - accuracy: 0.5172 - val_loss: 0.6928 - val_accuracy: 0.5125\n",
      "Epoch 48/50\n",
      "14/14 [==============================] - 0s 10ms/step - loss: 0.6926 - accuracy: 0.5172 - val_loss: 0.6928 - val_accuracy: 0.5125\n",
      "Epoch 49/50\n",
      "14/14 [==============================] - 0s 11ms/step - loss: 0.6926 - accuracy: 0.5172 - val_loss: 0.6928 - val_accuracy: 0.5125\n",
      "Epoch 50/50\n",
      "14/14 [==============================] - 0s 12ms/step - loss: 0.6926 - accuracy: 0.5172 - val_loss: 0.6928 - val_accuracy: 0.5125\n"
     ]
    },
    {
     "data": {
      "text/plain": [
       "<keras.callbacks.History at 0x2966926b550>"
      ]
     },
     "execution_count": 66,
     "metadata": {},
     "output_type": "execute_result"
    }
   ],
   "source": [
    "model.fit(X_train, y_train, epochs=50, batch_size=48, validation_split=0.2)"
   ]
  },
  {
   "cell_type": "code",
   "execution_count": 67,
   "metadata": {},
   "outputs": [
    {
     "name": "stdout",
     "output_type": "stream",
     "text": [
      "7/7 [==============================] - 0s 5ms/step - loss: 0.6919 - accuracy: 0.5300\n",
      "0.5299999713897705\n"
     ]
    }
   ],
   "source": [
    "# Evaluate the ANN\n",
    "loss, accuracy = model.evaluate(X_test, y_test)\n",
    "print(accuracy)"
   ]
  },
  {
   "cell_type": "code",
   "execution_count": null,
   "metadata": {},
   "outputs": [],
   "source": []
  }
 ],
 "metadata": {
  "kernelspec": {
   "display_name": "myenv",
   "language": "python",
   "name": "python3"
  },
  "language_info": {
   "codemirror_mode": {
    "name": "ipython",
    "version": 3
   },
   "file_extension": ".py",
   "mimetype": "text/x-python",
   "name": "python",
   "nbconvert_exporter": "python",
   "pygments_lexer": "ipython3",
   "version": "3.9.19"
  }
 },
 "nbformat": 4,
 "nbformat_minor": 2
}
